{
  "nbformat": 4,
  "nbformat_minor": 0,
  "metadata": {
    "colab": {
      "provenance": []
    },
    "kernelspec": {
      "name": "python3",
      "display_name": "Python 3"
    },
    "language_info": {
      "name": "python"
    }
  },
  "cells": [
    {
      "cell_type": "markdown",
      "source": [
        "Q1) What is Object-Oriented Programming (OOP)?\n",
        "    \n",
        "    Object-Oriented Programming (OOP) is a way of writing computer programs by using objects. An object is a collection of data (called attributes) and actions (called methods) that work together. OOP is based on the idea of modeling real-world things, like a car or a person, as objects in code. Instead of writing one big block of code, we divide it into smaller parts (called classes), which are like blueprints for creating objects.\n",
        "\n",
        "Q2) What is a class in OOP?\n",
        "    \n",
        "    In Object-Oriented Programming (OOP), a class is like a blueprint or template used to create objects. It defines the structure and behavior that the objects made from it will have. When you use the class to create a real thing in the program (called an object), then you can use it to perform actions or store values. So, in simple terms, a class is a guide that tells the computer how to build and use objects.\n",
        "\n",
        "Q3) What is an object in OOP?\n",
        "    \n",
        "    In Object-Oriented Programming (OOP), an object is a real instance created from a class. If a class is like a blueprint, then an object is the actual thing built from that blueprint. It contains real data and can perform actions defined by the class. Objects help organize code and make it easier to understand and manage, especially in large programs.\n",
        "\n",
        "Q4) What is the difference between abstraction and encapsulation?\n",
        "    \n",
        "    Abstraction and encapsulation are two important concepts in Object-Oriented Programming (OOP), and while they are related, they have different purposes.\n",
        "\n",
        "    Abstraction means showing only the important details and hiding the unnecessary parts. It helps reduce complexity by focusing on what an object does instead of how it does it. For example, when you use a smartphone, you just tap on the screen to make a call — you don’t need to know how the internal circuits work. In programming, abstraction is done using classes and methods that hide the complex code and only show the necessary interface.\n",
        "\n",
        "    Encapsulation, on the other hand, means wrapping the data (variables) and methods (functions) into a single unit, which is the object, and restricting direct access to some parts of it. This is done by using access modifiers like private, public, or protected. For example, you might make a variable private and provide public methods to read or change it. This protects the data from being changed accidentally or in the wrong way.\n",
        "\n",
        "    In short, abstraction hides complexity, while encapsulation hides data and protects it. Both make code easier to work with and more secure.\n",
        "\n",
        "Q5) What are dunder methods in Python?\n",
        "\n",
        "    Dunder methods in Python, also called magic methods or special methods, are special functions that start and end with double underscores (like __init__ or __str__). The term \"dunder\" stands for \"double underscore.\" These methods are built into Python and allow objects to behave in certain ways when used with built-in functions or operators. For example, the __init__() method runs automatically when a new object is created and is used to set up the object’s initial state. The __str__() method controls what is shown when you print the object. There are also dunder methods like __add__() to define how objects behave with the + operator and __len__() to make the object work with the len() function.\n",
        "\n",
        "Q6) Explain the concept of inheritance in OOP.\n",
        "\n",
        "    Inheritance in Object-Oriented Programming (OOP) is a concept that allows one class to take on the properties and behaviors of another class. It helps in reusing existing code and building a relationship between classes. The class that gives its features is called the parent class or base class, and the class that inherits those features is called the child class or derived class. It also allows for extending or modifying the behavior of inherited features in the child class when needed.\n",
        "\n",
        "Q7) What is polymorphism in OOP?\n",
        "\n",
        "    Polymorphism in Object-Oriented Programming (OOP) means the ability of different objects to respond to the same method in their own way. It allows one function or method to work in different forms depending on the object calling it. For example, if different classes like Dog and Cat have their own version of a method called speak(), calling speak() on a Dog object may bark, while calling it on a Cat object may meow. This makes the code more flexible and easier to maintain, as the same interface can be used for different data types or objects.\n",
        "\n",
        "Q8) How is encapsulation achieved in Python.\n",
        "\n",
        "    Encapsulation in Python is achieved by keeping data (variables) and methods (functions) inside a class and restricting direct access to them. This is done by using access modifiers. In Python, you can make a variable private by adding two underscores before its name (like __balance). This prevents it from being accessed directly from outside the class. Instead, you provide getter and setter methods to read or update the value safely. This helps protect the data from being changed accidentally and keeps the internal details hidden from the outside.\n",
        "\n",
        "Q9) What is a constructor in Python?\n",
        "\n",
        "    A constructor in Python is a special method used to create and initialize an object when a class is called. It is defined using the __init__() method. This method runs automatically when a new object is created and is used to set the initial values of the object’s attributes. For example, in a class Student, the constructor can set the student's name and age when the object is created. Constructors help ensure that each object starts with the required data.\n",
        "\n",
        "Q10) What are class and static methods in Python?\n",
        "\n",
        "    In Python, class methods and static methods are special types of methods that belong to a class rather than just to objects.\n",
        "\n",
        "    A class method is defined using the @classmethod decorator. It takes cls as the first parameter, which refers to the class itself. Class methods can access and modify class-level data that is shared among all objects.\n",
        "\n",
        "    A static method is defined using the @staticmethod decorator. It does not take self or cls as a parameter. It behaves like a regular function but belongs to the class. Static methods cannot access or change class or object data; they are used when some logic is related to the class but doesn’t need to use class or instance variables.\n",
        "\n",
        "Q11) What is method overloading in Python?\n",
        "\n",
        "    Method overloading in Python refers to the ability to define multiple methods with the same name but different numbers or types of arguments. However, unlike some other programming languages, Python does not support method overloading directly. If you define a method with the same name multiple times in a class, only the last one will be used.\n",
        "\n",
        "Q12) What is method overriding in OOP?\n",
        "\n",
        "    Method overriding in Object-Oriented Programming (OOP) happens when a child class defines a method with the same name as a method in its parent class, but provides a different version of it. This allows the child class to change or customize the behavior of the method inherited from the parent class.\n",
        "\n",
        "Q13) What is a property decorator in Python?\n",
        "\n",
        "    A property decorator in Python, written as @property, is used to turn a method into a read-only property. It allows you to access a method like an attribute, without using parentheses. This is useful when you want to calculate or return a value from a method but want it to behave like a variable.\n",
        "  \n",
        "Q14) Why is polymorphism important in OOP?\n",
        "\n",
        "    Polymorphism is important in Object-Oriented Programming (OOP) because it allows the same method or function name to behave differently depending on the object that uses it. This makes code more flexible and easier to extend. With polymorphism, you can write general code that works with different types of objects, making your programs more reusable and easier to maintain.\n",
        "\n",
        "Q15) What is an abstract class in Python?\n",
        "\n",
        "    An abstract class in Python is a class that cannot be used to create objects directly. It is meant to be a base class for other classes and usually contains one or more abstract methods—methods that are declared but have no code (no implementation). These methods must be implemented by any child class that inherits from the abstract class.\n",
        "\n",
        "Q16) What are the advantages of OOP?\n",
        "\n",
        "    Object-Oriented Programming (OOP) has several advantages that make it easier to build and manage complex programs:\n",
        "\n",
        "    Reusability\n",
        "    Modularity\n",
        "    Encapsulation\n",
        "    Polymorphism\n",
        "    Abstraction\n",
        "\n",
        "Q17) What is the difference between a class variable and an instance variable?\n",
        "\n",
        "    The main difference between a class variable and an instance variable lies in how they are shared and used within a class.\n",
        "\n",
        "    A class variable is shared by all objects (instances) of a class. It is defined outside any method but inside the class. If you change a class variable, the change affects all objects.\n",
        "\n",
        "    An instance variable, on the other hand, is specific to each object. It is usually defined inside the __init__() method using self. Each object has its own separate copy of instance variables.\n",
        "\n",
        "Q18) What is multiple inheritance in Python?\n",
        "\n",
        "    Multiple inheritance in Python is a feature that allows a class to inherit from more than one parent class at the same time. This means the child class gets the features (methods and attributes) from all of its parent classes.\n",
        "\n",
        "Q19) Explain the purpose of ‘’__str__’ and ‘__repr__’ ‘ methods in Python.\n",
        "\n",
        "    In Python, the __str__ and __repr__ methods are special (dunder) methods used to define how objects are represented as strings.\n",
        "\n",
        "    The __str__() method is used to return a user-friendly string version of the object. It is called when you use the print() function or str() on an object. This is meant for the end user to read easily.\n",
        "\n",
        "    The __repr__() method is used to return a detailed, developer-friendly string that shows how to recreate the object. It is called when you use repr() or when the object is shown in the Python shell. It should ideally return a string that could be used to recreate the object using eval().\n",
        "\n",
        "Q20) What is the significance of the ‘super()’ function in Python?\n",
        "\n",
        "    The super() function in Python is used to call methods from a parent class in a child class. It is especially useful in inheritance when you want to extend or modify the behavior of the parent class without rewriting its code.\n",
        "\n",
        "    The super() function allows you to run the parent class's methods, such as the __init__() constructor, from the child class. This helps avoid code duplication and ensures that the parent class is properly initialized.\n",
        "\n",
        "Q21) What is the significance of the __del__ method in Python?\n",
        "\n",
        "    The __del__ method in Python is a special (dunder) method known as a destructor. It is called automatically when an object is about to be destroyed or deleted. The main use of __del__ is to perform cleanup actions, such as closing files, releasing memory, or disconnecting from a database.\n",
        "\n",
        "    This method is the opposite of the __init__ constructor, which creates and initializes the object. The __del__ method helps ensure that resources used by the object are properly released when the object is no longer needed.\n",
        "\n",
        "Q22) What is the difference between @staticmethod and @classmethod in Python?\n",
        "\n",
        "    The difference between @staticmethod and @classmethod in Python lies in how they access class data and how they are used.\n",
        "\n",
        "    A @staticmethod is a method that does not take any reference to the class or object as its first argument. It behaves like a regular function but is placed inside a class for logical grouping. It cannot access or modify class or instance variables.\n",
        "\n",
        "    A @classmethod takes cls as its first parameter, which refers to the class itself, not an instance. It can access or modify class-level variables and is often used for creating alternate constructors or changing class-level settings.\n",
        "\n",
        "Q23) How does polymorphism work in Python with inheritance?\n",
        "\n",
        "    In Python, polymorphism with inheritance works by allowing different child classes to have methods with the same name as in the parent class, but with different behavior. When you call the method on an object, Python automatically runs the version that matches the object's class, even if the method was defined in the parent class.\n",
        "\n",
        "    This allows the same method name to perform different tasks depending on the object type, which is a key part of polymorphism.\n",
        "\n",
        "Q24) What is method chaining in Python OOP?\n",
        "\n",
        "    Method chaining in Python OOP is a technique where multiple methods are called one after another on the same object in a single line of code. This works by having each method return the object itself (self), so the next method can be called on it.\n",
        "\n",
        "    This makes the code look cleaner and more compact, especially when performing a series of operations on the same object.\n",
        "\n",
        "Q25) What is the purpose of the __call__ method in Python?\n",
        "\n",
        "    The __call__ method in Python allows an object to be called like a function. When a class defines the __call__() method, you can use its object followed by parentheses () to execute that method, just like calling a function.\n",
        "\n",
        "    This is useful when you want your object to behave like a function or when you want to perform some action every time the object is \"called.\""
      ],
      "metadata": {
        "id": "2-1yE68ABcaj"
      }
    },
    {
      "cell_type": "code",
      "source": [
        "#Q1) Create a parent class Animal with a method speak() that prints a generic message. Create a child class Dog that overrides the speak() method to print \"Bark!\".\n",
        "\n",
        "class Animal:\n",
        "    def speak(self):\n",
        "        print(\"The animal makes a sound\")\n",
        "\n",
        "class Dog(Animal):\n",
        "    def speak(self):\n",
        "        print(\"Bark!\")\n",
        "\n",
        "a = Animal()\n",
        "a.speak()\n",
        "\n",
        "d = Dog()\n",
        "d.speak()\n"
      ],
      "metadata": {
        "colab": {
          "base_uri": "https://localhost:8080/"
        },
        "id": "Fjz4T6PD--zQ",
        "outputId": "f5821589-3d39-44d5-ba38-2941e525942b"
      },
      "execution_count": 1,
      "outputs": [
        {
          "output_type": "stream",
          "name": "stdout",
          "text": [
            "The animal makes a sound\n",
            "Bark!\n"
          ]
        }
      ]
    },
    {
      "cell_type": "code",
      "source": [
        "#Q2) Write a program to create an abstract class Shape with a method area(). Derive classes Circle and Rectangle from it and implement the area() method in both.\n",
        "\n",
        "from abc import ABC, abstractmethod\n",
        "import math\n",
        "\n",
        "# Abstract class\n",
        "class Shape(ABC):\n",
        "    @abstractmethod\n",
        "    def area(self):\n",
        "        pass\n",
        "\n",
        "# Derived class: Circle\n",
        "class Circle(Shape):\n",
        "    def __init__(self, radius):\n",
        "        self.radius = radius\n",
        "\n",
        "    def area(self):\n",
        "        return math.pi * self.radius ** 2\n",
        "\n",
        "# Derived class: Rectangle\n",
        "class Rectangle(Shape):\n",
        "    def __init__(self, length, width):\n",
        "        self.length = length\n",
        "        self.width = width\n",
        "\n",
        "    def area(self):\n",
        "        return self.length * self.width\n",
        "\n",
        "# Create objects\n",
        "circle = Circle(5)\n",
        "rectangle = Rectangle(4, 6)\n",
        "\n",
        "# Display areas\n",
        "print(\"Circle area:\", circle.area())\n",
        "print(\"Rectangle area:\", rectangle.area())\n"
      ],
      "metadata": {
        "colab": {
          "base_uri": "https://localhost:8080/"
        },
        "id": "utGLDg1I_QUD",
        "outputId": "50b55ebd-fe7e-43e0-f88a-91987f67705d"
      },
      "execution_count": 2,
      "outputs": [
        {
          "output_type": "stream",
          "name": "stdout",
          "text": [
            "Circle area: 78.53981633974483\n",
            "Rectangle area: 24\n"
          ]
        }
      ]
    },
    {
      "cell_type": "code",
      "source": [
        "#Q3) Implement a multi-level inheritance scenario where a class Vehicle has an attribute type. Derive a class Car and further derive a class ElectricCar that adds a battery attribute.\n",
        "\n",
        "# Base class\n",
        "class Vehicle:\n",
        "    def __init__(self, vehicle_type):\n",
        "        self.type = vehicle_type\n",
        "\n",
        "# Derived class\n",
        "class Car(Vehicle):\n",
        "    def __init__(self, vehicle_type, brand):\n",
        "        super().__init__(vehicle_type)\n",
        "        self.brand = brand\n",
        "\n",
        "# Further derived class\n",
        "class ElectricCar(Car):\n",
        "    def __init__(self, vehicle_type, brand, battery_capacity):\n",
        "        super().__init__(vehicle_type, brand)\n",
        "        self.battery = battery_capacity\n",
        "\n",
        "    def display_info(self):\n",
        "        print(f\"Type: {self.type}\")\n",
        "        print(f\"Brand: {self.brand}\")\n",
        "        print(f\"Battery Capacity: {self.battery} kWh\")\n",
        "\n",
        "# Create an object of ElectricCar\n",
        "my_car = ElectricCar(\"Car\", \"Tesla\", 75)\n",
        "my_car.display_info()\n"
      ],
      "metadata": {
        "colab": {
          "base_uri": "https://localhost:8080/"
        },
        "id": "4CQooPlL_ivE",
        "outputId": "3015ac4d-f3f1-4914-bf21-17160592241f"
      },
      "execution_count": 3,
      "outputs": [
        {
          "output_type": "stream",
          "name": "stdout",
          "text": [
            "Type: Car\n",
            "Brand: Tesla\n",
            "Battery Capacity: 75 kWh\n"
          ]
        }
      ]
    },
    {
      "cell_type": "code",
      "source": [
        "#Q4)  Demonstrate polymorphism by creating a base class Bird with a method fly(). Create two derived classes Sparrow and Penguin that override the fly() method.\n",
        "\n",
        "\n",
        "class Bird:\n",
        "    def fly(self):\n",
        "        print(\"Some birds can fly.\")\n",
        "\n",
        "\n",
        "class Sparrow(Bird):\n",
        "    def fly(self):\n",
        "        print(\"Sparrow flies high in the sky.\")\n",
        "\n",
        "\n",
        "class Penguin(Bird):\n",
        "    def fly(self):\n",
        "        print(\"Penguins cannot fly, they swim.\")\n",
        "\n",
        "\n",
        "def bird_fly_test(bird):\n",
        "    bird.fly()\n",
        "\n",
        "\n",
        "sparrow = Sparrow()\n",
        "penguin = Penguin()\n",
        "\n",
        "\n",
        "bird_fly_test(sparrow)\n",
        "bird_fly_test(penguin)\n"
      ],
      "metadata": {
        "colab": {
          "base_uri": "https://localhost:8080/"
        },
        "id": "YMHz12ru_v2v",
        "outputId": "c421fdf8-4b98-45bf-ff81-6e88346d049d"
      },
      "execution_count": 4,
      "outputs": [
        {
          "output_type": "stream",
          "name": "stdout",
          "text": [
            "Sparrow flies high in the sky.\n",
            "Penguins cannot fly, they swim.\n"
          ]
        }
      ]
    },
    {
      "cell_type": "code",
      "source": [
        "#Q5) Write a program to demonstrate encapsulation by creating a class BankAccount with private attributes balance and methods to deposit, withdraw, and check balance.\n",
        "\n",
        "class BankAccount:\n",
        "    def __init__(self, initial_balance=0):\n",
        "        self.__balance = initial_balance\n",
        "\n",
        "    def deposit(self, amount):\n",
        "        if amount > 0:\n",
        "            self.__balance += amount\n",
        "            print(f\"Deposited: {amount}\")\n",
        "        else:\n",
        "            print(\"Invalid deposit amount.\")\n",
        "\n",
        "    def withdraw(self, amount):\n",
        "        if 0 < amount <= self.__balance:\n",
        "            self.__balance -= amount\n",
        "            print(f\"Withdrawn: {amount}\")\n",
        "        else:\n",
        "            print(\"Insufficient balance or invalid amount.\")\n",
        "\n",
        "    def check_balance(self):\n",
        "        print(f\"Current balance: {self.__balance}\")\n",
        "\n",
        "account = BankAccount(1000)\n",
        "\n",
        "\n",
        "account.deposit(500)\n",
        "account.withdraw(300)\n",
        "account.check_balance()\n"
      ],
      "metadata": {
        "colab": {
          "base_uri": "https://localhost:8080/"
        },
        "id": "zGAUOSoo__bv",
        "outputId": "487bc332-60c4-4eb9-cfe2-edb743cfe989"
      },
      "execution_count": 5,
      "outputs": [
        {
          "output_type": "stream",
          "name": "stdout",
          "text": [
            "Deposited: 500\n",
            "Withdrawn: 300\n",
            "Current balance: 1200\n"
          ]
        }
      ]
    },
    {
      "cell_type": "code",
      "source": [
        "#Q6) Demonstrate runtime polymorphism using a method play() in a base class Instrument. Derive classes Guitar and Piano that implement their own version of play().\n",
        "\n",
        "\n",
        "class Instrument:\n",
        "    def play(self):\n",
        "        print(\"Playing an instrument.\")\n",
        "\n",
        "class Guitar(Instrument):\n",
        "    def play(self):\n",
        "        print(\"Strumming the guitar.\")\n",
        "\n",
        "class Piano(Instrument):\n",
        "    def play(self):\n",
        "        print(\"Playing the piano keys.\")\n",
        "\n",
        "def perform_play(instrument):\n",
        "    instrument.play()\n",
        "\n",
        "guitar = Guitar()\n",
        "piano = Piano()\n",
        "\n",
        "\n",
        "perform_play(guitar)\n",
        "perform_play(piano)\n"
      ],
      "metadata": {
        "colab": {
          "base_uri": "https://localhost:8080/"
        },
        "id": "nqovkGgqAMj3",
        "outputId": "ef6b54a4-85c7-4a1b-ab15-f4d336178524"
      },
      "execution_count": 6,
      "outputs": [
        {
          "output_type": "stream",
          "name": "stdout",
          "text": [
            "Strumming the guitar.\n",
            "Playing the piano keys.\n"
          ]
        }
      ]
    },
    {
      "cell_type": "code",
      "source": [
        "#Q7) Create a class MathOperations with a class method add_numbers() to add two numbers and a static method subtract_numbers() to subtract two numbers.\n",
        "\n",
        "class MathOperations:\n",
        "    @classmethod\n",
        "    def add_numbers(cls, a, b):\n",
        "        return a + b\n",
        "\n",
        "    @staticmethod\n",
        "    def subtract_numbers(a, b):\n",
        "        return a - b\n",
        "\n",
        "\n",
        "sum_result = MathOperations.add_numbers(10, 5)\n",
        "print(\"Sum:\", sum_result)\n",
        "\n",
        "difference = MathOperations.subtract_numbers(10, 5)\n",
        "print(\"Difference:\", difference)\n"
      ],
      "metadata": {
        "colab": {
          "base_uri": "https://localhost:8080/"
        },
        "id": "NovNiNQHAfpL",
        "outputId": "b3d0b516-21f7-4e36-c498-bd4cd6f5fd9b"
      },
      "execution_count": 7,
      "outputs": [
        {
          "output_type": "stream",
          "name": "stdout",
          "text": [
            "Sum: 15\n",
            "Difference: 5\n"
          ]
        }
      ]
    },
    {
      "cell_type": "code",
      "source": [
        "#Q8) Implement a class Person with a class method to count the total number of persons created.\n",
        "\n",
        "\n",
        "class Person:\n",
        "    count = 0\n",
        "\n",
        "    def __init__(self, name):\n",
        "        self.name = name\n",
        "        Person.count += 1\n",
        "\n",
        "    @classmethod\n",
        "    def total_persons(cls):\n",
        "        return cls.count\n",
        "\n",
        "\n",
        "p1 = Person(\"Alice\")\n",
        "p2 = Person(\"Bob\")\n",
        "p3 = Person(\"Charlie\")\n",
        "\n",
        "print(\"Total persons created:\", Person.total_persons())\n"
      ],
      "metadata": {
        "colab": {
          "base_uri": "https://localhost:8080/"
        },
        "id": "63Rr_t8aAnEp",
        "outputId": "ba92c3f3-9951-4163-e582-e100e9664691"
      },
      "execution_count": 8,
      "outputs": [
        {
          "output_type": "stream",
          "name": "stdout",
          "text": [
            "Total persons created: 3\n"
          ]
        }
      ]
    },
    {
      "cell_type": "code",
      "source": [
        "#Q9)  Write a class Fraction with attributes numerator and denominator. Override the str method to display the fraction as \"numerator/denominator\".\n",
        "\n",
        "class Fraction:\n",
        "    def __init__(self, numerator, denominator):\n",
        "        self.numerator = numerator\n",
        "        self.denominator = denominator\n",
        "\n",
        "    def __str__(self):\n",
        "        return f\"{self.numerator}/{self.denominator}\"\n",
        "\n",
        "f1 = Fraction(3, 4)\n",
        "\n",
        "print(f1)"
      ],
      "metadata": {
        "colab": {
          "base_uri": "https://localhost:8080/"
        },
        "id": "XKNxvSSOAxNY",
        "outputId": "1ad5a7d2-144f-4e11-eabb-ea82e7e93d2d"
      },
      "execution_count": 9,
      "outputs": [
        {
          "output_type": "stream",
          "name": "stdout",
          "text": [
            "3/4\n"
          ]
        }
      ]
    },
    {
      "cell_type": "code",
      "source": [
        "#Q10) Demonstrate operator overloading by creating a class Vector and overriding the add method to add two vectors.\n",
        "\n",
        "class Vector:\n",
        "    def __init__(self, x, y):\n",
        "        self.x = x\n",
        "        self.y = y\n",
        "\n",
        "    def __add__(self, other):\n",
        "        return Vector(self.x + other.x, self.y + other.y)\n",
        "\n",
        "    def __str__(self):\n",
        "        return f\"Vector({self.x}, {self.y})\"\n",
        "\n",
        "v1 = Vector(2, 3)\n",
        "v2 = Vector(4, 5)\n",
        "\n",
        "v3 = v1 + v2\n",
        "\n",
        "print(v3)\n",
        "\n"
      ],
      "metadata": {
        "colab": {
          "base_uri": "https://localhost:8080/"
        },
        "id": "vUBV9gjvA6Dl",
        "outputId": "cfe3f774-64fb-4d3c-9a6b-11a3d8955503"
      },
      "execution_count": 10,
      "outputs": [
        {
          "output_type": "stream",
          "name": "stdout",
          "text": [
            "Vector(6, 8)\n"
          ]
        }
      ]
    },
    {
      "cell_type": "code",
      "source": [
        "#Q11)  Create a class Person with attributes name and age. Add a method greet() that prints \"Hello, my name is {name} and I am {age} years old.\"\n",
        "\n",
        "class Person:\n",
        "    def __init__(self, name, age):\n",
        "        self.name = name\n",
        "        self.age = age\n",
        "\n",
        "    def greet(self):\n",
        "        print(f\"Hello, my name is {self.name} and I am {self.age} years old.\")\n",
        "\n",
        "p1 = Person(\"Alice\", 25)\n",
        "\n",
        "p1.greet()\n"
      ],
      "metadata": {
        "colab": {
          "base_uri": "https://localhost:8080/"
        },
        "id": "FDwe7SilBGOj",
        "outputId": "ce70f4e7-5252-444a-daa4-cd68fa97ad68"
      },
      "execution_count": 11,
      "outputs": [
        {
          "output_type": "stream",
          "name": "stdout",
          "text": [
            "Hello, my name is Alice and I am 25 years old.\n"
          ]
        }
      ]
    },
    {
      "cell_type": "code",
      "source": [
        "#Q12)  Implement a class Student with attributes name and grades. Create a method average_grade() to compute the average of the grades.\n",
        "\n",
        "class Student:\n",
        "    def __init__(self, name, grades):\n",
        "        self.name = name\n",
        "        self.grades = grades\n",
        "\n",
        "    def average_grade(self):\n",
        "        if self.grades:\n",
        "            return sum(self.grades) / len(self.grades)\n",
        "        else:\n",
        "            return 0\n",
        "\n",
        "s1 = Student(\"John\", [85, 90, 78, 92])\n",
        "\n",
        "print(f\"{s1.name}'s average grade is: {s1.average_grade():.2f}\")\n"
      ],
      "metadata": {
        "colab": {
          "base_uri": "https://localhost:8080/"
        },
        "id": "fItcEY0gBOmZ",
        "outputId": "1f073a6b-9a61-4f24-cc5a-02aab5408eba"
      },
      "execution_count": 12,
      "outputs": [
        {
          "output_type": "stream",
          "name": "stdout",
          "text": [
            "John's average grade is: 86.25\n"
          ]
        }
      ]
    },
    {
      "cell_type": "code",
      "source": [
        "#Q13) Create a class Rectangle with methods set_dimensions() to set the dimensions and area() to calculate the area.\n",
        "\n",
        "class Rectangle:\n",
        "    def __init__(self):\n",
        "        self.length = 0\n",
        "        self.width = 0\n",
        "\n",
        "    def set_dimensions(self, length, width):\n",
        "        self.length = length\n",
        "        self.width = width\n",
        "\n",
        "    def area(self):\n",
        "        return self.length * self.width\n",
        "\n",
        "rect = Rectangle()\n",
        "\n",
        "rect.set_dimensions(5, 3)\n",
        "\n",
        "print(\"Area of rectangle:\", rect.area())\n"
      ],
      "metadata": {
        "colab": {
          "base_uri": "https://localhost:8080/"
        },
        "id": "AmrEQFyCBYOU",
        "outputId": "e48dfdf8-5b2d-437a-c79a-7e20e57149fb"
      },
      "execution_count": 13,
      "outputs": [
        {
          "output_type": "stream",
          "name": "stdout",
          "text": [
            "Area of rectangle: 15\n"
          ]
        }
      ]
    },
    {
      "cell_type": "code",
      "source": [
        "#Q14) Create a class Employee with a method calculate_salary() that computes the salary based on hours worked and hourly rate. Create a derived class Manager that adds a bonus to the salary.\n",
        "\n",
        "# Base class\n",
        "class Employee:\n",
        "    def __init__(self, name, hours_worked, hourly_rate):\n",
        "        self.name = name\n",
        "        self.hours_worked = hours_worked\n",
        "        self.hourly_rate = hourly_rate\n",
        "\n",
        "    def calculate_salary(self):\n",
        "        return self.hours_worked * self.hourly_rate\n",
        "\n",
        "# Derived class\n",
        "class Manager(Employee):\n",
        "    def __init__(self, name, hours_worked, hourly_rate, bonus):\n",
        "        super().__init__(name, hours_worked, hourly_rate)\n",
        "        self.bonus = bonus\n",
        "\n",
        "    def calculate_salary(self):\n",
        "        base_salary = super().calculate_salary()\n",
        "        return base_salary + self.bonus\n",
        "\n",
        "# Create an Employee object\n",
        "emp = Employee(\"Alice\", 40, 20)\n",
        "print(f\"{emp.name}'s Salary: ${emp.calculate_salary()}\")\n",
        "\n",
        "# Create a Manager object\n",
        "mgr = Manager(\"Bob\", 45, 30, 500)\n",
        "print(f\"{mgr.name}'s Salary with Bonus: ${mgr.calculate_salary()}\")\n"
      ],
      "metadata": {
        "colab": {
          "base_uri": "https://localhost:8080/"
        },
        "id": "YDmbdzypBgJM",
        "outputId": "77632c46-654a-44c3-e70f-6f909c502292"
      },
      "execution_count": 14,
      "outputs": [
        {
          "output_type": "stream",
          "name": "stdout",
          "text": [
            "Alice's Salary: $800\n",
            "Bob's Salary with Bonus: $1850\n"
          ]
        }
      ]
    },
    {
      "cell_type": "code",
      "source": [
        "#Q15) Create a class Product with attributes name, price, and quantity. Implement a method total_price() that calculates the total price of the product.\n",
        "\n",
        "class Product:\n",
        "    def __init__(self, name, price, quantity):\n",
        "        self.name = name\n",
        "        self.price = price\n",
        "        self.quantity = quantity\n",
        "\n",
        "    def total_price(self):\n",
        "        return self.price * self.quantity\n",
        "\n",
        "p1 = Product(\"Laptop\", 50000, 2)\n",
        "\n",
        "print(f\"Total price for {p1.name}s: ₹{p1.total_price()}\")\n"
      ],
      "metadata": {
        "colab": {
          "base_uri": "https://localhost:8080/"
        },
        "id": "Q03nw3FHOgJw",
        "outputId": "965315a0-5181-4ed2-9df9-21c0191ec903"
      },
      "execution_count": 15,
      "outputs": [
        {
          "output_type": "stream",
          "name": "stdout",
          "text": [
            "Total price for Laptops: ₹100000\n"
          ]
        }
      ]
    },
    {
      "cell_type": "code",
      "source": [
        "#Q16) Create a class Animal with an abstract method sound(). Create two derived classes Cow and Sheep that implement the sound() method.\n",
        "\n",
        "from abc import ABC, abstractmethod\n",
        "\n",
        "# Abstract class\n",
        "class Animal(ABC):\n",
        "    @abstractmethod\n",
        "    def sound(self):\n",
        "        pass\n",
        "\n",
        "# Derived class: Cow\n",
        "class Cow(Animal):\n",
        "    def sound(self):\n",
        "        print(\"Cow says Moo\")\n",
        "\n",
        "# Derived class: Sheep\n",
        "class Sheep(Animal):\n",
        "    def sound(self):\n",
        "        print(\"Sheep says Baa\")\n",
        "\n",
        "cow = Cow()\n",
        "sheep = Sheep()\n",
        "\n",
        "cow.sound()\n",
        "sheep.sound()\n"
      ],
      "metadata": {
        "colab": {
          "base_uri": "https://localhost:8080/"
        },
        "id": "sjEhdFThOnka",
        "outputId": "799153dc-f84f-45ad-fddd-dee87cf3af29"
      },
      "execution_count": 16,
      "outputs": [
        {
          "output_type": "stream",
          "name": "stdout",
          "text": [
            "Cow says Moo\n",
            "Sheep says Baa\n"
          ]
        }
      ]
    },
    {
      "cell_type": "code",
      "source": [
        "#Q17) Create a class Book with attributes title, author, and year_published. Add a method get_book_info() that returns a formatted string with the book's details.\n",
        "\n",
        "class Book:\n",
        "    def __init__(self, title, author, year_published):\n",
        "        self.title = title\n",
        "        self.author = author\n",
        "        self.year_published = year_published\n",
        "\n",
        "    def get_book_info(self):\n",
        "        return f\"'{self.title}' by {self.author} (Published in {self.year_published})\"\n",
        "\n",
        "# Create a Book object\n",
        "book1 = Book(\"To Kill a Mockingbird\", \"Harper Lee\", 1960)\n",
        "\n",
        "# Print book information\n",
        "print(book1.get_book_info())\n"
      ],
      "metadata": {
        "colab": {
          "base_uri": "https://localhost:8080/"
        },
        "id": "ZsqwbJJPOxcP",
        "outputId": "5b492497-241b-49d0-b027-b6719bd7b0e9"
      },
      "execution_count": 18,
      "outputs": [
        {
          "output_type": "stream",
          "name": "stdout",
          "text": [
            "'To Kill a Mockingbird' by Harper Lee (Published in 1960)\n"
          ]
        }
      ]
    },
    {
      "cell_type": "code",
      "source": [
        "#Q18)  Create a class House with attributes address and price. Create a derived class Mansion that adds an attribute number_of_rooms.\n",
        "\n",
        "# Base class\n",
        "class House:\n",
        "    def __init__(self, address, price):\n",
        "        self.address = address\n",
        "        self.price = price\n",
        "\n",
        "    def display_info(self):\n",
        "        print(f\"Address: {self.address}\")\n",
        "        print(f\"Price: ₹{self.price}\")\n",
        "\n",
        "# Derived class\n",
        "class Mansion(House):\n",
        "    def __init__(self, address, price, number_of_rooms):\n",
        "        super().__init__(address, price)\n",
        "        self.number_of_rooms = number_of_rooms\n",
        "\n",
        "    def display_info(self):\n",
        "        super().display_info()\n",
        "        print(f\"Number of Rooms: {self.number_of_rooms}\")\n",
        "\n",
        "# Create an object of Mansion\n",
        "m = Mansion(\"123 Royal Street\", 100000000, 15)\n",
        "m.display_info()\n"
      ],
      "metadata": {
        "colab": {
          "base_uri": "https://localhost:8080/"
        },
        "id": "xQ1rgX96O9St",
        "outputId": "19cfdf94-5543-4493-986a-a4375b3bdb9a"
      },
      "execution_count": 19,
      "outputs": [
        {
          "output_type": "stream",
          "name": "stdout",
          "text": [
            "Address: 123 Royal Street\n",
            "Price: ₹100000000\n",
            "Number of Rooms: 15\n"
          ]
        }
      ]
    }
  ]
}